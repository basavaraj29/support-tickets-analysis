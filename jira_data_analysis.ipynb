{
 "cells": [
  {
   "cell_type": "markdown",
   "metadata": {},
   "source": [
    "## 1. Project Definition\n",
    "\n",
    "### 1.1 Project Overview\n",
    "\n",
    "The **IBM Global Chief Data Office (GCDO)** is a world-wide team of highly skilled engineers, who develop and maintain the key initiatives that drive IBM's Data and AI transformation.\n",
    "In the GCDO, we have the **Cognitive Enterprise Data Platform (CEDP)** that serves as the backbone for data and AI processes across the IBM enterprise. Previously siloed data, converges onto one platform and provides a reliable data source.\n",
    "\n",
    "CEDP offerings consist of various tools and frameworks. It has a dedicated support team to address concerns/issues on all of its offerings. CEDP Support team uses Jira for issue/ticket tracking and resolution.\n",
    "\n",
    "### 1.2 Problem Statement\n",
    "\n",
    "In this project, I've analyzed the support tickets data for a period of 30 months since the initiation of the project. Below are a few questions we were interested in exploring:\n",
    "\n",
    "1. Average resolution time for a ticket. How has it progressed over time? How is the distribution?\n",
    "2. Busiest hours of the day, week. Monthy patterns among tickets raised \n",
    "3. Correlation of the resolution time with other factors.\n",
    "4. Prediction of ticket labels from the ticket summary. \n",
    "\n",
    "Tasks 1,2 & 3 were accomplished by leveraging pandas inbuilt library functionalities. In order to solve the final task of prediction, we used MultiOutput Classification algorithms. Given a processed input summary vector, the model predicted a one-hot encoded vector spanning all possible labels. Since the labels aren't mutually exclusive, a single binary classification model cannot be used.\n",
    "\n",
    "### 1.3 Metrics used for Evaluation\n",
    "\n",
    "Since this is a multi-label multi-classification problem, we measure the precision, recall & f-score for each category label. We print the classification report summarising these three parameters for each label, on the test data. \n",
    "\n",
    "Since the data for different classes is imbalanced, we used micro-average f1 score for the purpose of evaluation\n",
    "\n",
    "**Note:**\n",
    "\n",
    "To test the trained model, please execute the last 3 cells in the notebook."
   ]
  },
  {
   "cell_type": "code",
   "execution_count": 1,
   "metadata": {},
   "outputs": [
    {
     "name": "stderr",
     "output_type": "stream",
     "text": [
      "[nltk_data] Downloading package punkt to /usr/local/share/nltk_data...\n",
      "[nltk_data]   Package punkt is already up-to-date!\n"
     ]
    },
    {
     "data": {
      "text/plain": [
       "True"
      ]
     },
     "execution_count": 1,
     "metadata": {},
     "output_type": "execute_result"
    }
   ],
   "source": [
    "import pandas as pd \n",
    "import numpy as np\n",
    "import matplotlib.pyplot as plt \n",
    "import seaborn as sns\n",
    "\n",
    "import nltk\n",
    "from nltk import word_tokenize, sent_tokenize\n",
    "from nltk.stem.porter import PorterStemmer\n",
    "\n",
    "from sklearn.pipeline import Pipeline\n",
    "from sklearn.ensemble import RandomForestClassifier\n",
    "from sklearn.feature_extraction.text import CountVectorizer, TfidfTransformer\n",
    "from sklearn.multioutput import MultiOutputClassifier\n",
    "from sklearn.model_selection import train_test_split, GridSearchCV\n",
    "from sklearn.metrics import classification_report\n",
    "from sklearn.svm import SVC\n",
    "from sklearn.decomposition import TruncatedSVD\n",
    "from sklearn.externals import joblib\n",
    "\n",
    "import re\n",
    "nltk.download(['punkt'])"
   ]
  },
  {
   "cell_type": "markdown",
   "metadata": {},
   "source": [
    "## 2. Analysis \n",
    "\n",
    "\n",
    "### 2.1 Data Exploration "
   ]
  },
  {
   "cell_type": "code",
   "execution_count": 2,
   "metadata": {},
   "outputs": [
    {
     "name": "stdout",
     "output_type": "stream",
     "text": [
      "<class 'pandas.core.frame.DataFrame'>\n",
      "Int64Index: 10 entries, 4545 to 26315\n",
      "Data columns (total 17 columns):\n",
      " #   Column          Non-Null Count  Dtype \n",
      "---  ------          --------------  ----- \n",
      " 0   assignee_email  10 non-null     object\n",
      " 1   assignee_key    10 non-null     object\n",
      " 2   assigne_name    10 non-null     object\n",
      " 3   comments_count  10 non-null     int64 \n",
      " 4   components      10 non-null     object\n",
      " 5   created         10 non-null     object\n",
      " 6   creator_email   10 non-null     object\n",
      " 7   creator_key     10 non-null     object\n",
      " 8   creator_name    10 non-null     object\n",
      " 9   issue_type      10 non-null     int64 \n",
      " 10  labels          10 non-null     object\n",
      " 11  reporter_email  10 non-null     object\n",
      " 12  reporter_key    10 non-null     object\n",
      " 13  reporter_name   10 non-null     object\n",
      " 14  resolutiondate  10 non-null     object\n",
      " 15  summary         10 non-null     object\n",
      " 16  key             10 non-null     object\n",
      "dtypes: int64(2), object(15)\n",
      "memory usage: 1.4+ KB\n"
     ]
    }
   ],
   "source": [
    "df = pd.read_csv('./jira.csv', index_col='id', dtype={'summary': str})\n",
    "df.info()"
   ]
  },
  {
   "cell_type": "code",
   "execution_count": 3,
   "metadata": {},
   "outputs": [],
   "source": [
    "# drop all columns containing PI data, and other unnecessary data\n",
    "df = df.drop(columns=['assignee_email', 'assignee_key', 'assigne_name', 'creator_email', \\\n",
    "                   'creator_key', 'creator_name', 'reporter_email', 'reporter_key', 'reporter_name'])"
   ]
  },
  {
   "cell_type": "code",
   "execution_count": 4,
   "metadata": {},
   "outputs": [
    {
     "name": "stdout",
     "output_type": "stream",
     "text": [
      "number of records in the dataset - 16712\n",
      "number of cells with missing values - 639\n",
      "number of rows with missing data in at least one column - 538\n"
     ]
    }
   ],
   "source": [
    "print(\"number of records in the dataset - {}\".format(len(df)))\n",
    "print(\"number of cells with missing values - {}\".format(df.isna().sum().sum()))\n",
    "print(\"number of rows with missing data in at least one column - {}\".format(df.shape[0] - df.dropna().shape[0]))"
   ]
  },
  {
   "cell_type": "code",
   "execution_count": 5,
   "metadata": {},
   "outputs": [
    {
     "data": {
      "text/plain": [
       "count    16712.000000\n",
       "mean         8.778423\n",
       "std          6.886752\n",
       "min          0.000000\n",
       "25%          5.000000\n",
       "50%          7.000000\n",
       "75%         11.000000\n",
       "max        113.000000\n",
       "Name: comments_count, dtype: float64"
      ]
     },
     "execution_count": 5,
     "metadata": {},
     "output_type": "execute_result"
    }
   ],
   "source": [
    "df.comments_count.describe()"
   ]
  },
  {
   "cell_type": "markdown",
   "metadata": {},
   "source": [
    "Though the mean value for the number of comments on each ticket is 9, we see that 50% of them get closed with <= 7 comments. We could try to take a look at the distribuiton too."
   ]
  },
  {
   "cell_type": "code",
   "execution_count": 6,
   "metadata": {},
   "outputs": [
    {
     "data": {
      "text/plain": [
       "<matplotlib.axes._subplots.AxesSubplot at 0x11c6ff438>"
      ]
     },
     "execution_count": 6,
     "metadata": {},
     "output_type": "execute_result"
    },
    {
     "data": {
      "image/png": "[encoded data removed]",
      "text/plain": [
       "<Figure size 432x288 with 1 Axes>"
      ]
     },
     "metadata": {
      "needs_background": "light"
     },
     "output_type": "display_data"
    }
   ],
   "source": [
    "sns.boxplot(df.comments_count)"
   ]
  },
  {
   "cell_type": "code",
   "execution_count": 7,
   "metadata": {},
   "outputs": [
    {
     "data": {
      "text/plain": [
       "(5.3973192915270465, 0.14959310674964096)"
      ]
     },
     "execution_count": 7,
     "metadata": {},
     "output_type": "execute_result"
    }
   ],
   "source": [
    "len(df[df.comments_count > 20])*100/len(df), len(df[df.comments_count > 60])*100/len(df)"
   ]
  },
  {
   "cell_type": "markdown",
   "metadata": {},
   "source": [
    "A Majority of the tickets get closed with <= 20 comments. About 5% of the tickets have comments_count > 20 and 0.15% of them have comments_count > 60. "
   ]
  },
  {
   "cell_type": "markdown",
   "metadata": {},
   "source": [
    "### 2.2 Data Visualisation \n",
    "\n",
    "Plot of column index vs missing values in that column, this will give us an estimate of the amount of missing data in the dataset. Based on that we can either remove the missing data, or if its of considerable percent, then we could think of using imputation methods"
   ]
  },
  {
   "cell_type": "code",
   "execution_count": 8,
   "metadata": {},
   "outputs": [
    {
     "data": {
      "text/plain": [
       "[0.0, 3.1594064145524174, 0.0, 0.0, 0.6641933939684059, 0.0, 0.0, 0.0]"
      ]
     },
     "execution_count": 8,
     "metadata": {},
     "output_type": "execute_result"
    },
    {
     "data": {
      "image/png": "[encoded data removed]",
      "text/plain": [
       "<Figure size 432x288 with 1 Axes>"
      ]
     },
     "metadata": {
      "needs_background": "light"
     },
     "output_type": "display_data"
    }
   ],
   "source": [
    "def plot_features_vs_nans(df):\n",
    "    count = []\n",
    "    for col in df.columns:\n",
    "        nan_count = eval(\"df.\" + col + \".isna().sum()\")\n",
    "        count.append((nan_count*100)/len(df))\n",
    "    plt.barh(df.columns, count)\n",
    "    return count\n",
    "\n",
    "plot_features_vs_nans(df)"
   ]
  },
  {
   "cell_type": "code",
   "execution_count": 9,
   "metadata": {},
   "outputs": [
    {
     "data": {
      "text/plain": [
       "16174"
      ]
     },
     "execution_count": 9,
     "metadata": {},
     "output_type": "execute_result"
    }
   ],
   "source": [
    "# since the fraction of cells in each col with missing data is very less, we can drop all rows with nan in any col\n",
    "# drop all rows containing nan/null values \n",
    "df = df.dropna()\n",
    "len(df)"
   ]
  },
  {
   "cell_type": "code",
   "execution_count": 10,
   "metadata": {},
   "outputs": [
    {
     "data": {
      "text/html": [
       "<div>\n",
       "<style scoped>\n",
       "    .dataframe tbody tr th:only-of-type {\n",
       "        vertical-align: middle;\n",
       "    }\n",
       "\n",
       "    .dataframe tbody tr th {\n",
       "        vertical-align: top;\n",
       "    }\n",
       "\n",
       "    .dataframe thead th {\n",
       "        text-align: right;\n",
       "    }\n",
       "</style>\n",
       "<table border=\"1\" class=\"dataframe\">\n",
       "  <thead>\n",
       "    <tr style=\"text-align: right;\">\n",
       "      <th></th>\n",
       "      <th>comments_count</th>\n",
       "      <th>components</th>\n",
       "      <th>created</th>\n",
       "      <th>issue_type</th>\n",
       "      <th>labels</th>\n",
       "      <th>resolutiondate</th>\n",
       "      <th>summary</th>\n",
       "      <th>key</th>\n",
       "    </tr>\n",
       "    <tr>\n",
       "      <th>id</th>\n",
       "      <th></th>\n",
       "      <th></th>\n",
       "      <th></th>\n",
       "      <th></th>\n",
       "      <th></th>\n",
       "      <th></th>\n",
       "      <th></th>\n",
       "      <th></th>\n",
       "    </tr>\n",
       "  </thead>\n",
       "  <tbody>\n",
       "    <tr>\n",
       "      <th>4545</th>\n",
       "      <td>14</td>\n",
       "      <td>1408:</td>\n",
       "      <td>2018-05-11T09:46:53.000+0300</td>\n",
       "      <td>1100</td>\n",
       "      <td>Other_CEDP:</td>\n",
       "      <td>2018-05-18T09:30:34.000+0300</td>\n",
       "      <td>Re-create schemas on &lt;conf&gt; DB2 Warehouse</td>\n",
       "      <td>CSC-14</td>\n",
       "    </tr>\n",
       "    <tr>\n",
       "      <th>4547</th>\n",
       "      <td>8</td>\n",
       "      <td>1414:</td>\n",
       "      <td>2018-05-11T10:39:07.000+0300</td>\n",
       "      <td>1203</td>\n",
       "      <td>On-Boarding:</td>\n",
       "      <td>2018-05-14T21:08:32.000+0300</td>\n",
       "      <td>I am an API developer and I need access to blu...</td>\n",
       "      <td>SD-183</td>\n",
       "    </tr>\n",
       "    <tr>\n",
       "      <th>4556</th>\n",
       "      <td>10</td>\n",
       "      <td>1406:</td>\n",
       "      <td>2018-05-11T13:44:02.000+0300</td>\n",
       "      <td>1202</td>\n",
       "      <td>DashDB:</td>\n",
       "      <td>2018-05-11T22:56:44.000+0300</td>\n",
       "      <td>connection problem</td>\n",
       "      <td>SD-183</td>\n",
       "    </tr>\n",
       "    <tr>\n",
       "      <th>4557</th>\n",
       "      <td>4</td>\n",
       "      <td>1414:</td>\n",
       "      <td>2018-05-11T13:46:45.000+0300</td>\n",
       "      <td>1203</td>\n",
       "      <td>On-Boarding:</td>\n",
       "      <td>2018-05-14T15:11:27.000+0300</td>\n",
       "      <td>I am an API developer and I need access to blu...</td>\n",
       "      <td>SD-183</td>\n",
       "    </tr>\n",
       "    <tr>\n",
       "      <th>4583</th>\n",
       "      <td>5</td>\n",
       "      <td>1414:</td>\n",
       "      <td>2018-05-11T15:01:58.000+0300</td>\n",
       "      <td>1203</td>\n",
       "      <td>On-Boarding:</td>\n",
       "      <td>2018-05-11T16:29:05.000+0300</td>\n",
       "      <td>Request for access to &lt;conf&gt; in Artifactory</td>\n",
       "      <td>SD-183</td>\n",
       "    </tr>\n",
       "  </tbody>\n",
       "</table>\n",
       "</div>"
      ],
      "text/plain": [
       "      comments_count components                       created  issue_type  \\\n",
       "id                                                                          \n",
       "4545              14      1408:  2018-05-11T09:46:53.000+0300        1100   \n",
       "4547               8      1414:  2018-05-11T10:39:07.000+0300        1203   \n",
       "4556              10      1406:  2018-05-11T13:44:02.000+0300        1202   \n",
       "4557               4      1414:  2018-05-11T13:46:45.000+0300        1203   \n",
       "4583               5      1414:  2018-05-11T15:01:58.000+0300        1203   \n",
       "\n",
       "            labels                resolutiondate  \\\n",
       "id                                                 \n",
       "4545   Other_CEDP:  2018-05-18T09:30:34.000+0300   \n",
       "4547  On-Boarding:  2018-05-14T21:08:32.000+0300   \n",
       "4556       DashDB:  2018-05-11T22:56:44.000+0300   \n",
       "4557  On-Boarding:  2018-05-14T15:11:27.000+0300   \n",
       "4583  On-Boarding:  2018-05-11T16:29:05.000+0300   \n",
       "\n",
       "                                                summary     key  \n",
       "id                                                               \n",
       "4545          Re-create schemas on <conf> DB2 Warehouse  CSC-14  \n",
       "4547  I am an API developer and I need access to blu...  SD-183  \n",
       "4556                                connection problem   SD-183  \n",
       "4557  I am an API developer and I need access to blu...  SD-183  \n",
       "4583       Request for access to <conf> in Artifactory   SD-183  "
      ]
     },
     "execution_count": 10,
     "metadata": {},
     "output_type": "execute_result"
    }
   ],
   "source": [
    "df.head()"
   ]
  },
  {
   "cell_type": "markdown",
   "metadata": {},
   "source": [
    "## 3. Task - 1\n",
    "\n",
    "**Patterns during day, week, months** \n",
    "\n",
    "\n",
    "## 3.1 Methodology\n",
    "\n",
    "### 3.1.1 Data Preprocessing \n",
    "\n",
    "The cell value in the labels column are compound values separated by ':' delimiter. We will have to process these labels, and have one column correspoding to each possbile label. The values in those columns will take one-hot encoding, that is, 1 if the label was previous present in the compound label, else 0.  "
   ]
  },
  {
   "cell_type": "code",
   "execution_count": 11,
   "metadata": {},
   "outputs": [],
   "source": [
    "def get_all_labels(df, col_name, delimiter):\n",
    "    \"\"\"\n",
    "    Returns all possbile fields in a dataframe's column. by spilitting each cell value using the specified delimiter. \n",
    "    \n",
    "    INPUTS:\n",
    "    df  - pandas dataframe \n",
    "    col_name  - column having compound values separated by a delimiter \n",
    "    delimiter - character that seperates the values in a cell\n",
    "    \n",
    "    OUTPUTS:\n",
    "    A list of all possible simple values occuring in the column.\n",
    "    \"\"\"\n",
    "    all_labels = set()\n",
    "    for comp_label in df[col_name]:\n",
    "        labels = comp_label.split(delimiter)\n",
    "        for label in labels:\n",
    "            if label != '':\n",
    "                all_labels.add(label.lower())\n",
    "    return list(all_labels)\n",
    "\n",
    "def one_hot_enc_for_label(cell_value, label):\n",
    "    \"\"\"\n",
    "    Returns binary value based on whether the cell value contains the input label.\n",
    "    \n",
    "    INPUTS:\n",
    "    cell_value - pandas dataframe cell value\n",
    "    label  = label of onterest\n",
    "    \n",
    "    OUTOUTS:\n",
    "    A binary value 0/1.\n",
    "    \"\"\"\n",
    "    labels = cell_value.lower().split(':')\n",
    "    if label in labels:\n",
    "        return 1\n",
    "    return 0"
   ]
  },
  {
   "cell_type": "code",
   "execution_count": 12,
   "metadata": {},
   "outputs": [],
   "source": [
    "# get all possible labels \n",
    "all_labels = get_all_labels(df, 'labels', ':')\n",
    "\n",
    "# one hot encoding for each label\n",
    "for label in all_labels:\n",
    "    df['label_' + label] = df.labels.apply(lambda x: one_hot_enc_for_label(x, label))\n",
    "df = df.drop(columns=['labels'])\n",
    "df = df.dropna()"
   ]
  },
  {
   "cell_type": "code",
   "execution_count": 13,
   "metadata": {},
   "outputs": [
    {
     "data": {
      "text/html": [
       "<div>\n",
       "<style scoped>\n",
       "    .dataframe tbody tr th:only-of-type {\n",
       "        vertical-align: middle;\n",
       "    }\n",
       "\n",
       "    .dataframe tbody tr th {\n",
       "        vertical-align: top;\n",
       "    }\n",
       "\n",
       "    .dataframe thead th {\n",
       "        text-align: right;\n",
       "    }\n",
       "</style>\n",
       "<table border=\"1\" class=\"dataframe\">\n",
       "  <thead>\n",
       "    <tr style=\"text-align: right;\">\n",
       "      <th></th>\n",
       "      <th>comments_count</th>\n",
       "      <th>components</th>\n",
       "      <th>created</th>\n",
       "      <th>issue_type</th>\n",
       "      <th>resolutiondate</th>\n",
       "      <th>summary</th>\n",
       "      <th>key</th>\n",
       "      <th>label_other_cedp</th>\n",
       "      <th>label_watson_studio</th>\n",
       "      <th>label_access</th>\n",
       "      <th>label_jiraaccess</th>\n",
       "      <th>label_dashdb</th>\n",
       "      <th>label_data_asset_manager</th>\n",
       "      <th>label_on-boarding</th>\n",
       "    </tr>\n",
       "    <tr>\n",
       "      <th>id</th>\n",
       "      <th></th>\n",
       "      <th></th>\n",
       "      <th></th>\n",
       "      <th></th>\n",
       "      <th></th>\n",
       "      <th></th>\n",
       "      <th></th>\n",
       "      <th></th>\n",
       "      <th></th>\n",
       "      <th></th>\n",
       "      <th></th>\n",
       "      <th></th>\n",
       "      <th></th>\n",
       "      <th></th>\n",
       "    </tr>\n",
       "  </thead>\n",
       "  <tbody>\n",
       "    <tr>\n",
       "      <th>4545</th>\n",
       "      <td>14</td>\n",
       "      <td>1408:</td>\n",
       "      <td>2018-05-11T09:46:53.000+0300</td>\n",
       "      <td>1100</td>\n",
       "      <td>2018-05-18T09:30:34.000+0300</td>\n",
       "      <td>Re-create schemas on &lt;conf&gt; DB2 Warehouse</td>\n",
       "      <td>CSC-14</td>\n",
       "      <td>1</td>\n",
       "      <td>0</td>\n",
       "      <td>0</td>\n",
       "      <td>0</td>\n",
       "      <td>0</td>\n",
       "      <td>0</td>\n",
       "      <td>0</td>\n",
       "    </tr>\n",
       "    <tr>\n",
       "      <th>4547</th>\n",
       "      <td>8</td>\n",
       "      <td>1414:</td>\n",
       "      <td>2018-05-11T10:39:07.000+0300</td>\n",
       "      <td>1203</td>\n",
       "      <td>2018-05-14T21:08:32.000+0300</td>\n",
       "      <td>I am an API developer and I need access to blu...</td>\n",
       "      <td>SD-183</td>\n",
       "      <td>0</td>\n",
       "      <td>0</td>\n",
       "      <td>0</td>\n",
       "      <td>0</td>\n",
       "      <td>0</td>\n",
       "      <td>0</td>\n",
       "      <td>1</td>\n",
       "    </tr>\n",
       "    <tr>\n",
       "      <th>4556</th>\n",
       "      <td>10</td>\n",
       "      <td>1406:</td>\n",
       "      <td>2018-05-11T13:44:02.000+0300</td>\n",
       "      <td>1202</td>\n",
       "      <td>2018-05-11T22:56:44.000+0300</td>\n",
       "      <td>connection problem</td>\n",
       "      <td>SD-183</td>\n",
       "      <td>0</td>\n",
       "      <td>0</td>\n",
       "      <td>0</td>\n",
       "      <td>0</td>\n",
       "      <td>1</td>\n",
       "      <td>0</td>\n",
       "      <td>0</td>\n",
       "    </tr>\n",
       "    <tr>\n",
       "      <th>4557</th>\n",
       "      <td>4</td>\n",
       "      <td>1414:</td>\n",
       "      <td>2018-05-11T13:46:45.000+0300</td>\n",
       "      <td>1203</td>\n",
       "      <td>2018-05-14T15:11:27.000+0300</td>\n",
       "      <td>I am an API developer and I need access to blu...</td>\n",
       "      <td>SD-183</td>\n",
       "      <td>0</td>\n",
       "      <td>0</td>\n",
       "      <td>0</td>\n",
       "      <td>0</td>\n",
       "      <td>0</td>\n",
       "      <td>0</td>\n",
       "      <td>1</td>\n",
       "    </tr>\n",
       "    <tr>\n",
       "      <th>4583</th>\n",
       "      <td>5</td>\n",
       "      <td>1414:</td>\n",
       "      <td>2018-05-11T15:01:58.000+0300</td>\n",
       "      <td>1203</td>\n",
       "      <td>2018-05-11T16:29:05.000+0300</td>\n",
       "      <td>Request for access to &lt;conf&gt; in Artifactory</td>\n",
       "      <td>SD-183</td>\n",
       "      <td>0</td>\n",
       "      <td>0</td>\n",
       "      <td>0</td>\n",
       "      <td>0</td>\n",
       "      <td>0</td>\n",
       "      <td>0</td>\n",
       "      <td>1</td>\n",
       "    </tr>\n",
       "  </tbody>\n",
       "</table>\n",
       "</div>"
      ],
      "text/plain": [
       "      comments_count components                       created  issue_type  \\\n",
       "id                                                                          \n",
       "4545              14      1408:  2018-05-11T09:46:53.000+0300        1100   \n",
       "4547               8      1414:  2018-05-11T10:39:07.000+0300        1203   \n",
       "4556              10      1406:  2018-05-11T13:44:02.000+0300        1202   \n",
       "4557               4      1414:  2018-05-11T13:46:45.000+0300        1203   \n",
       "4583               5      1414:  2018-05-11T15:01:58.000+0300        1203   \n",
       "\n",
       "                    resolutiondate  \\\n",
       "id                                   \n",
       "4545  2018-05-18T09:30:34.000+0300   \n",
       "4547  2018-05-14T21:08:32.000+0300   \n",
       "4556  2018-05-11T22:56:44.000+0300   \n",
       "4557  2018-05-14T15:11:27.000+0300   \n",
       "4583  2018-05-11T16:29:05.000+0300   \n",
       "\n",
       "                                                summary     key  \\\n",
       "id                                                                \n",
       "4545          Re-create schemas on <conf> DB2 Warehouse  CSC-14   \n",
       "4547  I am an API developer and I need access to blu...  SD-183   \n",
       "4556                                connection problem   SD-183   \n",
       "4557  I am an API developer and I need access to blu...  SD-183   \n",
       "4583       Request for access to <conf> in Artifactory   SD-183   \n",
       "\n",
       "      label_other_cedp  label_watson_studio  label_access  label_jiraaccess  \\\n",
       "id                                                                            \n",
       "4545                 1                    0             0                 0   \n",
       "4547                 0                    0             0                 0   \n",
       "4556                 0                    0             0                 0   \n",
       "4557                 0                    0             0                 0   \n",
       "4583                 0                    0             0                 0   \n",
       "\n",
       "      label_dashdb  label_data_asset_manager  label_on-boarding  \n",
       "id                                                               \n",
       "4545             0                         0                  0  \n",
       "4547             0                         0                  1  \n",
       "4556             1                         0                  0  \n",
       "4557             0                         0                  1  \n",
       "4583             0                         0                  1  "
      ]
     },
     "execution_count": 13,
     "metadata": {},
     "output_type": "execute_result"
    }
   ],
   "source": [
    "df.head()"
   ]
  },
  {
   "cell_type": "code",
   "execution_count": 14,
   "metadata": {},
   "outputs": [],
   "source": [
    "# two list of column names, one for labels and the other for non-labels \n",
    "non_label_cols = ['components', 'created', 'issue_type', 'resolutiondate', 'summary', 'key', 'comments_count']\n",
    "label_cols = list(set(df.columns).difference(set(non_label_cols)))"
   ]
  },
  {
   "cell_type": "code",
   "execution_count": 15,
   "metadata": {},
   "outputs": [
    {
     "data": {
      "text/plain": [
       "(7, 89)"
      ]
     },
     "execution_count": 15,
     "metadata": {},
     "output_type": "execute_result"
    }
   ],
   "source": [
    "len(non_label_cols), len(label_cols)"
   ]
  },
  {
   "cell_type": "code",
   "execution_count": 16,
   "metadata": {},
   "outputs": [],
   "source": [
    "def plot_data(title, xlabel, ylabel, series, xticks, fmt, figsize=(14, 5), linestyle=':'):\n",
    "    \"\"\"\n",
    "    Plots a line graph with the pandas series's index on x-axis and value on y-axis.\n",
    "    \n",
    "    INPUTS:\n",
    "    title  - title for the plot\n",
    "    xlabel - label for the x-axis\n",
    "    ylabel - label for the y-axis\n",
    "    series - pandas series \n",
    "    xticks - label for each tick on the x-axis \n",
    "    fmt - format string, which is eventually passed in to plot\n",
    "    figsize - size of the plot  \n",
    "    linestyle - linestyle char, which is eventually passed in to plot\n",
    "    \"\"\"\n",
    "    fig, ax = plt.subplots(1, 1, figsize=figsize)\n",
    "    ax.plot(np.arange(0, len(series.index), 1), series, fmt, linestyle=':')\n",
    "    ax.set_xticks(np.arange(0, len(series), 1))\n",
    "    ax.set_xlabel(xlabel, fontsize=14)\n",
    "    ax.set_ylabel(ylabel, fontsize=14)\n",
    "    ax.set_title(title, fontsize=14)\n",
    "    ax.set_xticklabels(xticks, rotation='30', fontsize=10, ha='right')\n",
    "    for tick in ax.yaxis.get_major_ticks():\n",
    "        tick.label.set_fontsize(14) \n",
    "    plt.show()"
   ]
  },
  {
   "cell_type": "code",
   "execution_count": 17,
   "metadata": {},
   "outputs": [
    {
     "data": {
      "image/png": "[encoded data removed]",
      "text/plain": [
       "<Figure size 1008x360 with 1 Axes>"
      ]
     },
     "metadata": {
      "needs_background": "light"
     },
     "output_type": "display_data"
    }
   ],
   "source": [
    "s = pd.Series(df[label_cols].sum().sort_values(ascending=False)*100/len(df))\n",
    "plot_data('Stats for top 10 tickets labels', 'Label', \\\n",
    "          '%age of tickets in the dataset', s[:10], s.index[:10], 'b*')"
   ]
  },
  {
   "cell_type": "markdown",
   "metadata": {},
   "source": [
    "### 3.1.2 Implementation \n",
    "**Weekly, Monthly patterns**\n",
    "1. Which is the busiest hour during the day, when most of the tickets are rasied?\n",
    "2. Which is the busiest day during the week?\n",
    "3. How does the monthly tickets volume look?"
   ]
  },
  {
   "cell_type": "code",
   "execution_count": 18,
   "metadata": {},
   "outputs": [],
   "source": [
    "# create a sub dataframe holding only the necessary columns, one-hot enc of all labels, ticket summary, creation \n",
    "# and resolution date.\n",
    "sub_df = df.loc[:, label_cols]\n",
    "\n",
    "# ignore the seconds and timezone info\n",
    "sub_df['created'] = df['created'].apply(lambda x: pd.Timestamp(x[:-9]))\n",
    "sub_df['resolutiondate'] = df['resolutiondate'].apply(lambda x: pd.Timestamp(x[:-9]))\n",
    "sub_df['summary'] = df['summary']\n",
    "\n",
    "# drop all rows having null/nan values \n",
    "sub_df = sub_df.dropna()"
   ]
  },
  {
   "cell_type": "code",
   "execution_count": 19,
   "metadata": {},
   "outputs": [],
   "source": [
    "def get_hour_day_month(sub_df, prefix, col):\n",
    "    \"\"\"\n",
    "    Appends columns to the dataframe, contaning information on hour, day, moth, year of the values in column 'col'\n",
    "    \n",
    "    INPUTS:\n",
    "    sub_df - pandas dataframe \n",
    "    prefix - prefix character for the new columns being added \n",
    "    col    - the column in the dataframe containing pandas timestamp\n",
    "    \n",
    "    OUTPUTS:\n",
    "    The input dataframe, with four coulmns added.\n",
    "    \"\"\"\n",
    "    sub_df[prefix + 'hour'] = sub_df[col].apply(lambda x: int(x.hour))\n",
    "    sub_df[prefix + 'day'] = sub_df[col].apply(lambda x: int(x.dayofweek))\n",
    "    sub_df[prefix + 'month'] = sub_df[col].apply(lambda x: int(x.month))\n",
    "    sub_df[prefix + 'year'] = sub_df[col].apply(lambda x: int(x.year))\n",
    "    return sub_df\n",
    "\n",
    "sub_df = get_hour_day_month(sub_df, 'c_', 'created')\n",
    "sub_df = get_hour_day_month(sub_df, 'r_', 'resolutiondate')\n",
    "# consider data from 2018 to July 2020\n",
    "sub_df = sub_df[((sub_df.c_year >= 2018) & (sub_df.c_year < 2020)) | ((sub_df.c_year == 2020) & (sub_df.c_month < 8))]"
   ]
  },
  {
   "cell_type": "markdown",
   "metadata": {},
   "source": [
    "## 3.2 Results \n",
    "### 3.2.1 Visualisations & 3.2.2 Insights/Justifications"
   ]
  },
  {
   "cell_type": "code",
   "execution_count": 20,
   "metadata": {},
   "outputs": [
    {
     "data": {
      "image/png": "[encoded data removed]",
      "text/plain": [
       "<Figure size 1008x360 with 1 Axes>"
      ]
     },
     "metadata": {
      "needs_background": "light"
     },
     "output_type": "display_data"
    }
   ],
   "source": [
    "s = pd.Series(sub_df.groupby('c_hour').size())\n",
    "plot_data('Total tickets raised during each hour of the day', 'Hour of the day in 24hr format', \\\n",
    "          'Total tickets raised', s, s.index, 'b*')"
   ]
  },
  {
   "cell_type": "markdown",
   "metadata": {},
   "source": [
    "The busiest hours in the day seem to be around 14 –17 GMT. The period with considerably low activity seems to be around 00–06 GMT."
   ]
  },
  {
   "cell_type": "code",
   "execution_count": 21,
   "metadata": {},
   "outputs": [
    {
     "data": {
      "image/png": "[encoded data removed]",
      "text/plain": [
       "<Figure size 1008x360 with 1 Axes>"
      ]
     },
     "metadata": {
      "needs_background": "light"
     },
     "output_type": "display_data"
    }
   ],
   "source": [
    "weekdays = np.array(['Mon', 'Tue', 'Wed', 'Thu', 'Fri', 'Sat', 'Sun'])\n",
    "s = pd.Series(sub_df.groupby('c_day').size())\n",
    "plot_data('Total tickets raised during each day of week', 'Day of the week', \\\n",
    "          'Total tickets raised', s, weekdays, 'b*')"
   ]
  },
  {
   "cell_type": "markdown",
   "metadata": {},
   "source": [
    "All weekdays seem to show similar behaviour, with exclusion of Friday. Weekends display too low activity in comparision to weekdays."
   ]
  },
  {
   "cell_type": "code",
   "execution_count": 22,
   "metadata": {},
   "outputs": [
    {
     "data": {
      "image/png": "[encoded data removed]",
      "text/plain": [
       "<Figure size 1152x360 with 1 Axes>"
      ]
     },
     "metadata": {
      "needs_background": "light"
     },
     "output_type": "display_data"
    }
   ],
   "source": [
    "s = pd.Series(sub_df.groupby(['c_year', 'c_month']).size())\n",
    "plot_data('Total tickets raised during each month', 'Month', 'Total tickets raised', s, \\\n",
    "          np.arange(1, len(s.index) + 1, 1), 'b*', (16, 5))"
   ]
  },
  {
   "cell_type": "markdown",
   "metadata": {},
   "source": [
    "If we ignore data points before Month 8 (since the project was in the starting phase), the ticket activity seems to be low during months (12,24) & (17-18, 29). The pattern is repetitive every year, this might be due to a larger portion of employees being on vacation. "
   ]
  },
  {
   "cell_type": "markdown",
   "metadata": {},
   "source": [
    "## 4. Task - 2\n",
    "**Insights on Ticket resoltuion time**\n",
    "1. What is the average ticket resolution time? Is there any significant reduction as time progressed?\n",
    "\n",
    "2. Box plots for ticket resolution time. Any outliers? Which categories do these tickets belong to?\n",
    "\n",
    "3. Is there any correlation between resoltion time and ticket creation day/hour?\n",
    "\n",
    "## 4.1 Methodology \n",
    "\n",
    "### 4.1.1 Data Preprocessing & 4.1.2 Implementation"
   ]
  },
  {
   "cell_type": "code",
   "execution_count": 23,
   "metadata": {},
   "outputs": [],
   "source": [
    "# calculate the time tqaken for resolution in hours\n",
    "sub_df['rt_hours'] = (sub_df['resolutiondate'] - sub_df['created']).astype('timedelta64[h]')"
   ]
  },
  {
   "cell_type": "markdown",
   "metadata": {},
   "source": [
    "## 4.2 Results \n",
    "\n",
    "### 4.2.1 Visualisation & 4.2.2 Insights/Justifications "
   ]
  },
  {
   "cell_type": "code",
   "execution_count": 24,
   "metadata": {},
   "outputs": [
    {
     "data": {
      "image/png": "[encoded data removed]",
      "text/plain": [
       "<Figure size 1008x360 with 1 Axes>"
      ]
     },
     "metadata": {
      "needs_background": "light"
     },
     "output_type": "display_data"
    }
   ],
   "source": [
    "s = sub_df[['c_year', 'c_month', 'rt_hours']].groupby(['c_year', 'c_month']).mean()\n",
    "plot_data('Average ticket resolution time for data', 'Month', 'Avg time in hours', s, \\\n",
    "          np.arange(1, len(s.index) + 1, 1), 'b*')"
   ]
  },
  {
   "cell_type": "markdown",
   "metadata": {},
   "source": [
    "Here too, from Month 8 the average resolution time  has been somewhat steady. "
   ]
  },
  {
   "cell_type": "code",
   "execution_count": 25,
   "metadata": {},
   "outputs": [
    {
     "data": {
      "text/plain": [
       "<matplotlib.axes._subplots.AxesSubplot at 0x114695080>"
      ]
     },
     "execution_count": 25,
     "metadata": {},
     "output_type": "execute_result"
    },
    {
     "data": {
      "image/png": "[encoded data removed]",
      "text/plain": [
       "<Figure size 432x288 with 1 Axes>"
      ]
     },
     "metadata": {
      "needs_background": "light"
     },
     "output_type": "display_data"
    }
   ],
   "source": [
    "# A boxplot ofthe resolution times for the support tickets \n",
    "sns.boxplot(s)"
   ]
  },
  {
   "cell_type": "code",
   "execution_count": 26,
   "metadata": {},
   "outputs": [
    {
     "data": {
      "text/plain": [
       "label_access                    518\n",
       "label_on-boarding               237\n",
       "label_other_cedp                 91\n",
       "label_datastage                  68\n",
       "label_tablemanagement            64\n",
       "label_infrastructure             54\n",
       "label_user_to_resolve            50\n",
       "label_jirasupport                49\n",
       "label_user_zones_bigsql/hdfs     45\n",
       "label_kubernetes                 43\n",
       "dtype: int64"
      ]
     },
     "execution_count": 26,
     "metadata": {},
     "output_type": "execute_result"
    }
   ],
   "source": [
    "# Tickets belonging to which categories take more time \n",
    "s = pd.Series(sub_df[label_cols][sub_df.rt_hours > 225].sum()).sort_values(ascending=False)[:10]\n",
    "s"
   ]
  },
  {
   "cell_type": "markdown",
   "metadata": {},
   "source": [
    "The top 10 categories of tickets that could take more time to be resolved."
   ]
  },
  {
   "cell_type": "code",
   "execution_count": 27,
   "metadata": {},
   "outputs": [
    {
     "name": "stdout",
     "output_type": "stream",
     "text": [
      "Correlation of r_time with c_day: 0.04\n",
      "\n",
      "\n",
      "(0.3649367549705909, 'label_communications')\n",
      "(0.16976031413658885, 'label_slack')\n",
      "(0.13434014394960317, 'label_drop_zone_hdfs')\n",
      "(0.044055466735704214, 'c_day')\n",
      "(0.0422236307390891, 'label_dsx')\n",
      "(0.037569559034112646, 'r_year')\n",
      "(0.03617349541575629, 'label_cedp_portal')\n",
      "(0.027266390108638926, 'label_infrastructure')\n",
      "(0.024869122100125627, 'label_kafka')\n",
      "(0.02462988890088302, 'label_tablemanagement')\n",
      "\n",
      "\n",
      "(-0.0102766878540633, 'label_db2w')\n",
      "(-0.012732874627784215, 'r_hour')\n",
      "(-0.014956131865238724, 'label_onboarding')\n",
      "(-0.016658370423005466, 'c_year')\n",
      "(-0.01736001509937245, 'r_day')\n",
      "(-0.020273837162341247, 'label_user_zones_bigsql/hdfs')\n",
      "(-0.021042992890451525, 'label_datastage')\n",
      "(-0.027820149322532853, 'label_on-boarding')\n",
      "(-0.03373602031540195, 'label_github_access')\n",
      "(-0.05026621456531853, 'label_jiraaccess')\n",
      "\n",
      "\n"
     ]
    }
   ],
   "source": [
    "# calculate correlation of rt_hours with each column, and print the top positive and negative factors\n",
    "cor_vals = []\n",
    "for col in sub_df.columns:\n",
    "    if col not in ['created', 'resolutiondate', 'summary', 'rt_hours']:\n",
    "        val = sub_df.rt_hours.corr(sub_df[col])\n",
    "        if col == 'c_day':\n",
    "            print('Correlation of r_time with c_day: {:.2f}'.format(val))\n",
    "        if not np.isnan(val):\n",
    "            cor_vals.append((val, col))\n",
    "cor_vals.sort(key=lambda x: x[0], reverse=True)\n",
    "\n",
    "print(\"\\n\")\n",
    "[print(cor_vals[i]) for i in range(10)]\n",
    "print(\"\\n\")\n",
    "[print(cor_vals[i]) for i in range(len(cor_vals) - 10, len(cor_vals), 1)]\n",
    "print(\"\\n\")"
   ]
  },
  {
   "cell_type": "markdown",
   "metadata": {},
   "source": [
    "label_communications signifies error while connecting to the SQL engine, the higher correlation values suggests that issues of these type typically take more time to be resolved. \n",
    "\n",
    "Correlation with c_day is 0.04, indicating that there is no much difference in resolution as the weekend approaches. "
   ]
  },
  {
   "cell_type": "markdown",
   "metadata": {},
   "source": [
    "## 5. Task - 3\n",
    "\n",
    "**Prediction of ticket labels from ticket summary**\n",
    "\n",
    "## 5.1 Methodology\n",
    "\n",
    "### 5.1.1 Data Preprocessing \n",
    "\n",
    "Given the ticket summary as input, predict the labels for the ticket "
   ]
  },
  {
   "cell_type": "code",
   "execution_count": 28,
   "metadata": {},
   "outputs": [
    {
     "name": "stdout",
     "output_type": "stream",
     "text": [
      "Samples for label access_control: 7127\n",
      "Samples for label db2: 998\n",
      "Samples for label datastage: 1021\n",
      "Samples for label dsx: 462\n",
      "Samples for label drop_zone: 141\n",
      "Samples for label bigsql: 829\n",
      "Samples for label jiraaccess: 1483\n",
      "Samples for label kubernetes: 577\n",
      "Samples for label documentation: 10\n",
      "Samples for label non_cedp: 929\n",
      "Samples for label elasticsearch: 59\n"
     ]
    }
   ],
   "source": [
    "# A few labels actually convey the same things. We need to group the labels accordingly. Below is a map, \n",
    "# with key as one of the labels, and value being a list of all similar labels. Also the keys are the only \n",
    "# labels we are interested in predicting currently. \n",
    "helper_map = {\n",
    "  'access_control': ['accessissue', 'on-boarding', 'off-boarding', 'access'],\n",
    "  'db2': ['db2w', 'db2woc', 'db2whocaccess', 'db2wocaccess', 'dashdb', 'db2whoc', 'infrastructure'],\n",
    "  'datastage': ['iis_tools', 'catalog'],\n",
    "  'dsx': ['watson_studio', 'cloud', 'publiccloud'],\n",
    "  'drop_zone': ['drop_zone_hdfs'],\n",
    "  'bigsql': ['lz','landingzone', 'user_zones_bigsql/hdfs'],\n",
    "  'jiraaccess': ['jira_access', 'jirasupport', 'jira'],\n",
    "  'kubernetes': ['icp'],\n",
    "  'documentation': ['cedp_portal'], \n",
    "  'non_cedp': ['other_cedp', 'non_support'],\n",
    "  'elasticsearch': ['esa']\n",
    "}\n",
    "\n",
    "# set the column value based on OR of all similar columns. Append the col name into 'labels_interested', if and \n",
    "# only if the number of samples are > 100\n",
    "labels_interested = []\n",
    "for key, val in helper_map.items():\n",
    "    for v in val:\n",
    "        sub_df['label_' + key] = sub_df['label_' + key] | sub_df['label_' + v]\n",
    "    sum_ = sub_df['label_' + key].sum()\n",
    "    print('Samples for label {}: {}'.format(key, sum_))\n",
    "    if sum_ > 100:\n",
    "        labels_interested.append('label_' + key)"
   ]
  },
  {
   "cell_type": "markdown",
   "metadata": {},
   "source": [
    "### 5.1.2 Implementation\n",
    "\n",
    "We train a multi-class multi-label Classification pipeline using Random Forest Classifier and Grid Search to find the best parameters. The input text is tokenized using commonly used techniques such as CountVectorizer and tf-idf transformation. Latent Semantic Analysis is performed on this for dimensionality reduction. "
   ]
  },
  {
   "cell_type": "code",
   "execution_count": 29,
   "metadata": {},
   "outputs": [],
   "source": [
    "def load_data(df, category_names):\n",
    "    \"\"\"\n",
    "    Returns the train input & outout data, given the pandas dataframe.\n",
    "    \n",
    "    INPUTS:\n",
    "    df - pandas dataframe \n",
    "    category_names - list of label columns, that we are interested in predicting \n",
    "    \n",
    "    RETURNS:\n",
    "    training data, both model inout and the output that has to be fed. \n",
    "    \"\"\"\n",
    "    X = df['summary']\n",
    "    Y = df[category_names]\n",
    "    return X, Y\n",
    "\n",
    "def tokenize(text):\n",
    "    \"\"\"\n",
    "    Function to tokenize input text.\n",
    "    \"\"\"\n",
    "    text = word_tokenize(re.sub(r'[^a-zA-Z0-9]', ' ', text))\n",
    "    stem = PorterStemmer()\n",
    "    return [stem.stem(word.lower().strip()) for word in text]\n",
    "\n",
    "def build_model():\n",
    "    \"\"\"\n",
    "    Returns a pipeline for multi-class classification of text input\n",
    "    \"\"\"\n",
    "    pipeline = Pipeline([ \\\n",
    "        ('vect', CountVectorizer(tokenizer=tokenize)), \\\n",
    "        ('tfidf', TfidfTransformer()), \\\n",
    "        ('svd', TruncatedSVD(n_components=50, random_state=42)), \\\n",
    "        ('clf', MultiOutputClassifier(RandomForestClassifier(n_estimators=50, random_state=42))) \\\n",
    "    ])\n",
    "    return pipeline\n",
    "\n",
    "def evaluate_model(model, X_test, y_test, category_names):\n",
    "    \"\"\"\n",
    "    Prints classification report for test data on each category\n",
    "    \"\"\"\n",
    "    y_pred = model.predict(X_test)\n",
    "    print(classification_report(y_test, y_pred))\n",
    "    return "
   ]
  },
  {
   "cell_type": "code",
   "execution_count": 30,
   "metadata": {},
   "outputs": [
    {
     "data": {
      "text/plain": [
       "(12647, 12647, 3162, 3162)"
      ]
     },
     "execution_count": 30,
     "metadata": {},
     "output_type": "execute_result"
    }
   ],
   "source": [
    "category_names = labels_interested\n",
    "X, Y = load_data(sub_df, category_names)\n",
    "X_train, X_test, Y_train, Y_test = train_test_split(X, Y, test_size=0.2, random_state=23)\n",
    "\n",
    "len(X_train), len(Y_train), len(X_test), len(Y_test)"
   ]
  },
  {
   "cell_type": "code",
   "execution_count": 31,
   "metadata": {},
   "outputs": [
    {
     "data": {
      "text/plain": [
       "Pipeline(memory=None,\n",
       "     steps=[('vect', CountVectorizer(analyzer='word', binary=False, decode_error='strict',\n",
       "        dtype=<class 'numpy.int64'>, encoding='utf-8', input='content',\n",
       "        lowercase=True, max_df=1.0, max_features=None, min_df=1,\n",
       "        ngram_range=(1, 1), preprocessor=None, stop_words=None,\n",
       "        strip...           oob_score=False, random_state=42, verbose=0, warm_start=False),\n",
       "           n_jobs=None))])"
      ]
     },
     "execution_count": 31,
     "metadata": {},
     "output_type": "execute_result"
    }
   ],
   "source": [
    "model = build_model()\n",
    "model.fit(X_train, Y_train)"
   ]
  },
  {
   "cell_type": "code",
   "execution_count": 32,
   "metadata": {},
   "outputs": [
    {
     "name": "stdout",
     "output_type": "stream",
     "text": [
      "              precision    recall  f1-score   support\n",
      "\n",
      "           0       0.81      0.74      0.77      1402\n",
      "           1       0.80      0.17      0.28       220\n",
      "           2       0.74      0.38      0.50       201\n",
      "           3       0.75      0.18      0.29        84\n",
      "           4       0.20      0.04      0.06        28\n",
      "           5       0.80      0.22      0.35       199\n",
      "           6       0.71      0.44      0.54       268\n",
      "           7       0.94      0.22      0.35       133\n",
      "           8       0.47      0.04      0.08       191\n",
      "\n",
      "   micro avg       0.79      0.50      0.61      2726\n",
      "   macro avg       0.69      0.27      0.36      2726\n",
      "weighted avg       0.77      0.50      0.57      2726\n",
      " samples avg       0.43      0.43      0.43      2726\n",
      "\n"
     ]
    },
    {
     "name": "stderr",
     "output_type": "stream",
     "text": [
      "/Library/Frameworks/Python.framework/Versions/3.7/lib/python3.7/site-packages/sklearn/metrics/classification.py:1143: UndefinedMetricWarning: Precision and F-score are ill-defined and being set to 0.0 in samples with no predicted labels.\n",
      "  'precision', 'predicted', average, warn_for)\n",
      "/Library/Frameworks/Python.framework/Versions/3.7/lib/python3.7/site-packages/sklearn/metrics/classification.py:1145: UndefinedMetricWarning: Recall and F-score are ill-defined and being set to 0.0 in samples with no true labels.\n",
      "  'recall', 'true', average, warn_for)\n"
     ]
    }
   ],
   "source": [
    "evaluate_model(model, X_test, Y_test, category_names)"
   ]
  },
  {
   "cell_type": "markdown",
   "metadata": {},
   "source": [
    "### 5.1.3 Refinement \n",
    "\n",
    "Do a grid search to find the best parameters for the model. "
   ]
  },
  {
   "cell_type": "code",
   "execution_count": 33,
   "metadata": {},
   "outputs": [],
   "source": [
    "def build_model_with_grid_search():\n",
    "    \"\"\"\n",
    "    Returns a grid search pipeline for multi-class classification of text input\n",
    "    \"\"\"\n",
    "    pipeline = Pipeline([ \\\n",
    "        ('vect', CountVectorizer(tokenizer=tokenize)), \\\n",
    "        ('tfidf', TfidfTransformer()), \\\n",
    "        ('svd', TruncatedSVD(random_state=42)), \\\n",
    "        ('clf', MultiOutputClassifier(RandomForestClassifier(random_state=42))) \\\n",
    "    ])\n",
    "    parameters = { \\\n",
    "        'svd__n_components': [20, 50], \\\n",
    "        'clf__estimator__min_samples_split': [2, 4], \\\n",
    "        'clf__estimator__min_samples_leaf': [1, 2], \\\n",
    "        'clf__estimator__n_estimators': [50, 100] \\\n",
    "    }\n",
    "    cv = GridSearchCV(pipeline, parameters, cv=3)\n",
    "    return cv"
   ]
  },
  {
   "cell_type": "code",
   "execution_count": 34,
   "metadata": {},
   "outputs": [
    {
     "data": {
      "text/plain": [
       "GridSearchCV(cv=3, error_score='raise-deprecating',\n",
       "       estimator=Pipeline(memory=None,\n",
       "     steps=[('vect', CountVectorizer(analyzer='word', binary=False, decode_error='strict',\n",
       "        dtype=<class 'numpy.int64'>, encoding='utf-8', input='content',\n",
       "        lowercase=True, max_df=1.0, max_features=None, min_df=1,\n",
       "        ngram_range=(1, 1), preprocessor=None, stop_words=None,\n",
       "        strip...           oob_score=False, random_state=42, verbose=0, warm_start=False),\n",
       "           n_jobs=None))]),\n",
       "       fit_params=None, iid='warn', n_jobs=None,\n",
       "       param_grid={'svd__n_components': [20, 50], 'clf__estimator__min_samples_split': [2, 4], 'clf__estimator__min_samples_leaf': [1, 2], 'clf__estimator__n_estimators': [50, 100]},\n",
       "       pre_dispatch='2*n_jobs', refit=True, return_train_score='warn',\n",
       "       scoring=None, verbose=0)"
      ]
     },
     "execution_count": 34,
     "metadata": {},
     "output_type": "execute_result"
    }
   ],
   "source": [
    "model_gs = build_model_with_grid_search()\n",
    "model_gs.fit(X_train, Y_train)"
   ]
  },
  {
   "cell_type": "code",
   "execution_count": 35,
   "metadata": {},
   "outputs": [
    {
     "data": {
      "text/plain": [
       "{'clf__estimator__min_samples_leaf': 1,\n",
       " 'clf__estimator__min_samples_split': 2,\n",
       " 'clf__estimator__n_estimators': 100,\n",
       " 'svd__n_components': 50}"
      ]
     },
     "execution_count": 35,
     "metadata": {},
     "output_type": "execute_result"
    }
   ],
   "source": [
    "model_gs.best_params_"
   ]
  },
  {
   "cell_type": "markdown",
   "metadata": {},
   "source": [
    "## 5.2 Results \n",
    "\n",
    "### 5.2.1 Model Evaluation "
   ]
  },
  {
   "cell_type": "code",
   "execution_count": 36,
   "metadata": {},
   "outputs": [
    {
     "name": "stdout",
     "output_type": "stream",
     "text": [
      "              precision    recall  f1-score   support\n",
      "\n",
      "           0       0.81      0.74      0.78      1402\n",
      "           1       0.82      0.19      0.31       220\n",
      "           2       0.75      0.38      0.51       201\n",
      "           3       0.74      0.20      0.32        84\n",
      "           4       0.33      0.04      0.06        28\n",
      "           5       0.76      0.22      0.34       199\n",
      "           6       0.71      0.44      0.55       268\n",
      "           7       0.93      0.20      0.32       133\n",
      "           8       0.50      0.04      0.08       191\n",
      "\n",
      "   micro avg       0.80      0.50      0.62      2726\n",
      "   macro avg       0.71      0.27      0.36      2726\n",
      "weighted avg       0.77      0.50      0.57      2726\n",
      " samples avg       0.43      0.44      0.43      2726\n",
      "\n"
     ]
    },
    {
     "name": "stderr",
     "output_type": "stream",
     "text": [
      "/Library/Frameworks/Python.framework/Versions/3.7/lib/python3.7/site-packages/sklearn/metrics/classification.py:1143: UndefinedMetricWarning: Precision and F-score are ill-defined and being set to 0.0 in samples with no predicted labels.\n",
      "  'precision', 'predicted', average, warn_for)\n",
      "/Library/Frameworks/Python.framework/Versions/3.7/lib/python3.7/site-packages/sklearn/metrics/classification.py:1145: UndefinedMetricWarning: Recall and F-score are ill-defined and being set to 0.0 in samples with no true labels.\n",
      "  'recall', 'true', average, warn_for)\n"
     ]
    }
   ],
   "source": [
    "evaluate_model(model_gs, X_test, Y_test, category_names)"
   ]
  },
  {
   "cell_type": "markdown",
   "metadata": {},
   "source": [
    "### 5.2.2 Justification\n",
    "\n",
    "Grid Search tends to outperform the base model by a slight margin. This is because, grid search internally fits all possible combinations with the input configurations and outputs the best model."
   ]
  },
  {
   "cell_type": "code",
   "execution_count": 38,
   "metadata": {},
   "outputs": [
    {
     "data": {
      "text/plain": [
       "['./classifier.pkl']"
      ]
     },
     "execution_count": 38,
     "metadata": {},
     "output_type": "execute_result"
    }
   ],
   "source": [
    "# save the model\n",
    "joblib.dump(model_gs, './classifier.pkl', compress=1)"
   ]
  },
  {
   "cell_type": "markdown",
   "metadata": {},
   "source": [
    "**Predict labels from ticket summary, test the built model**\n",
    "\n",
    "Please execute these 3 cells for testing the saved model."
   ]
  },
  {
   "cell_type": "code",
   "execution_count": 2,
   "metadata": {},
   "outputs": [],
   "source": [
    "def tokenize(text):\n",
    "    \"\"\"\n",
    "    Function to tokenize input text.\n",
    "    \"\"\"\n",
    "    text = word_tokenize(re.sub(r'[^a-zA-Z0-9]', ' ', text))\n",
    "    stem = PorterStemmer()\n",
    "    return [stem.stem(word.lower().strip()) for word in text]\n",
    "\n",
    "labels_interested = ['label_access_control', 'label_db2', 'label_datastage', \\\n",
    "'label_dsx', 'label_drop_zone', 'label_bigsql', 'label_jiraaccess', 'label_kubernetes', 'label_non_cedp']"
   ]
  },
  {
   "cell_type": "code",
   "execution_count": 3,
   "metadata": {},
   "outputs": [],
   "source": [
    "# load the saved model\n",
    "model = joblib.load(\"./classifier.pkl\")"
   ]
  },
  {
   "cell_type": "code",
   "execution_count": 4,
   "metadata": {},
   "outputs": [
    {
     "name": "stdout",
     "output_type": "stream",
     "text": [
      "not able to view pod logs on namespace cxyz_dev: ['label_kubernetes']\n",
      "cedp iz prod env is very slow: ['label_db2']\n",
      "need access to namespace cxyz_dev on icp to view pod logs: ['label_access_control']\n"
     ]
    }
   ],
   "source": [
    "test_msgs = ['not able to view pod logs on namespace cxyz_dev', \\\n",
    "'cedp iz prod env is very slow', \\\n",
    "'need access to namespace cxyz_dev on icp to view pod logs']\n",
    "\n",
    "# expected labels \n",
    "# not able to view pod logs on namespace cxyz_dev - kubernetes \n",
    "# cedp iz prod env is very slow - db2\n",
    "# need access to namespace cxyz_dev on icp to view pod logs - kubernetes, access\n",
    "classification_labels = model.predict(test_msgs)\n",
    "for i in range(len(test_msgs)):\n",
    "    x = [labels_interested[k] for k in range(len(classification_labels[i])) if classification_labels[i][k] == 1]\n",
    "    print('{}: {}'.format(test_msgs[i], x))"
   ]
  },
  {
   "cell_type": "markdown",
   "metadata": {},
   "source": [
    "## 6. Conclusion\n",
    "\n",
    "**Average resolution time for a ticket. How has it progressed over time? How is the distribution?**\n",
    "\n",
    "From Month 8, the average resolution time  has been somewhat steady. \n",
    "\n",
    "\n",
    "**Busiest hours of the day, week. Monthy patterns among tickets raised**\n",
    "\n",
    "All weekdays seem to show similar behaviour, with exclusion of Friday. Weekends display too low activity in comparision to weekdays.\n",
    "\n",
    "\n",
    "**Correlation of the resolution time with all other factors.**\n",
    "\n",
    "label_communications signifies error while connecting to the SQL engine, the correlation values suggest that issues of these type typically take more time to be resolved. Correlation with c_day is 0.04, indicating that there is no much difference in resolution as the weekend approaches.\n",
    "\n",
    "\n",
    "**Prediction of ticket labels from the ticket summary.**\n",
    "\n",
    "The model performs well on predicting single classes, but doesn't seem to perform well in identifying multiple labels. Also, the training data was filtered and only interested labels were taken into consideration (due to lack of sufficient data). \n",
    "\n",
    "**Improvement**\n",
    "\n",
    "For multi-class multi-output classification, if we had enough data across all labels, may the the model would have performed better. We could also have tried using features like word2vec and sent2vec as input features. And since this is a specific domain, we will have to train the word2vec/sent2vec models on this specific corpus and then use them as features. \n",
    "\n",
    "Since we are dealing with imbalanced data, we could try out models that are know to perform better in such cases, like GradientBoostingClassifier\n",
    "\n",
    "We could try other ensemble techniques like AdaBoostClassifier\n",
    "\n",
    "We could also look at building a custom ensemble model with multiple supervised learning classifiers"
   ]
  },
  {
   "cell_type": "code",
   "execution_count": null,
   "metadata": {},
   "outputs": [],
   "source": []
  }
 ],
 "metadata": {
  "kernelspec": {
   "display_name": "Python 3",
   "language": "python",
   "name": "python3"
  },
  "language_info": {
   "codemirror_mode": {
    "name": "ipython",
    "version": 3
   },
   "file_extension": ".py",
   "mimetype": "text/x-python",
   "name": "python",
   "nbconvert_exporter": "python",
   "pygments_lexer": "ipython3",
   "version": "3.7.0"
  }
 },
 "nbformat": 4,
 "nbformat_minor": 2
}
